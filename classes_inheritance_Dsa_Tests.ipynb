{
  "nbformat": 4,
  "nbformat_minor": 0,
  "metadata": {
    "colab": {
      "provenance": [],
      "authorship_tag": "ABX9TyMBHug5Sk1qdUtz/R9XW2QB",
      "include_colab_link": true
    },
    "kernelspec": {
      "name": "python3",
      "display_name": "Python 3"
    },
    "language_info": {
      "name": "python"
    }
  },
  "cells": [
    {
      "cell_type": "markdown",
      "metadata": {
        "id": "view-in-github",
        "colab_type": "text"
      },
      "source": [
        "<a href=\"https://colab.research.google.com/github/gilbertKorir/python-DSA-tests/blob/main/classes_inheritance_Dsa_Tests.ipynb\" target=\"_parent\"><img src=\"https://colab.research.google.com/assets/colab-badge.svg\" alt=\"Open In Colab\"/></a>"
      ]
    },
    {
      "cell_type": "markdown",
      "source": [
        "PYTHON CODING TEST — CLASSES, INHERITANCE & DATA STRUCTURES (40 QUESTIONS)"
      ],
      "metadata": {
        "id": "2nOccqtxyb5L"
      }
    },
    {
      "cell_type": "code",
      "source": [
        "# Section 1: Basic Classes (Q1–Q10)\n",
        "# Create a class Car with attributes brand and model, and print them.\n",
        "class Car:\n",
        "  def __init__(self, brand, model):\n",
        "    self.brand = brand\n",
        "    self.model = model\n",
        "\n",
        "  def __str__(self):\n",
        "    return f\"Car Brand: {self.brand}, car model: {self.model}\"\n",
        "\n",
        "# Create an instance of the Car class\n",
        "my_car = Car(\"Mercedes\", \"Sedans\")\n",
        "\n",
        "# Print the brand and model of the car\n",
        "print(my_car)"
      ],
      "metadata": {
        "colab": {
          "base_uri": "https://localhost:8080/"
        },
        "id": "jfRlL4WZyfNy",
        "outputId": "13a9aacd-2128-470e-b55c-57808292dcae"
      },
      "execution_count": 8,
      "outputs": [
        {
          "output_type": "stream",
          "name": "stdout",
          "text": [
            "Car Brand: Mercedes, car model: Sedans\n"
          ]
        }
      ]
    },
    {
      "cell_type": "code",
      "source": [
        "# Write a class Student with attributes name and age. Create two objects and display their attributes.\n",
        "class Student:\n",
        "  def __init__(self, name, age):\n",
        "    self.name = name\n",
        "    self.age = age\n",
        "\n",
        "  def __str__(self):\n",
        "    return f\"My name is {self.name} and I am {self.age} years old\"\n",
        "\n",
        "# Create instance/object of students\n",
        "std1 = Student(\"John Paul\", 25)\n",
        "std2 = Student(\"Mercy Grace\", 19)\n",
        "\n",
        "# Print their attributes\n",
        "print(std1)\n",
        "print(std2)\n"
      ],
      "metadata": {
        "colab": {
          "base_uri": "https://localhost:8080/"
        },
        "id": "Akmd_KQ5yx4M",
        "outputId": "c0f842c3-3e8f-4efb-ba65-5fe12e34b7b2"
      },
      "execution_count": 9,
      "outputs": [
        {
          "output_type": "stream",
          "name": "stdout",
          "text": [
            "My name is John Paul and I am 25 years old\n",
            "My name is Mercy Grace and I am 19 years old\n"
          ]
        }
      ]
    },
    {
      "cell_type": "code",
      "source": [
        "# Define a class Rectangle that takes length and width, and has a method area() that returns the area.\n",
        "ln = int(input(\"Enter a length\"))\n",
        "wd = int(input(\"Enter a width\"))\n",
        "class Rectangle:\n",
        "    def __init__(self, length, width):  # Constructor to initialize attributes\n",
        "        self.length = length\n",
        "        self.width = width\n",
        "\n",
        "    def area(self):\n",
        "        print(f\"The area if a rectangle is {self.length * self.width}.\")\n",
        "\n",
        "Rectangle1 = Rectangle(ln, wd)\n",
        "Rectangle1.area()"
      ],
      "metadata": {
        "colab": {
          "base_uri": "https://localhost:8080/"
        },
        "id": "YEm-Id97y1UM",
        "outputId": "1511a10b-89cc-42c9-c887-e043ebd4c1c0"
      },
      "execution_count": 10,
      "outputs": [
        {
          "output_type": "stream",
          "name": "stdout",
          "text": [
            "Enter a length34\n",
            "Enter a width2\n",
            "The area if a rectangle is 68.\n"
          ]
        }
      ]
    },
    {
      "cell_type": "code",
      "source": [
        "# Create a class Circle with a method to compute its circumference and area.\n",
        "radius = float(input(\"Enter a radius\"))\n",
        "class Circle:\n",
        "    def __init__(self, r):\n",
        "        self.radius = r\n",
        "\n",
        "    def area(self):\n",
        "        return self.radius**2*3.14\n",
        "\n",
        "    def perimeter(self):\n",
        "        return 2*self.radius*3.14\n",
        "\n",
        "NewCircle = Circle(radius)\n",
        "print(NewCircle.area())\n",
        "print(NewCircle.perimeter())"
      ],
      "metadata": {
        "colab": {
          "base_uri": "https://localhost:8080/"
        },
        "id": "GKt6O4lsy1MU",
        "outputId": "f99494eb-24f7-4e5d-ef7e-eea6188d2f68"
      },
      "execution_count": null,
      "outputs": [
        {
          "output_type": "stream",
          "name": "stdout",
          "text": [
            "Enter a radius7\n",
            "153.86\n",
            "43.96\n"
          ]
        }
      ]
    },
    {
      "cell_type": "code",
      "source": [
        "# Write a class BankAccount with deposit() and withdraw() methods. Ensure balance never goes below 0.\n",
        "class BankAccounts:\n",
        "    def __init__(self, owner, balance=0):\n",
        "      self.owner = owner\n",
        "      self.balance = balance\n",
        "\n",
        "    def deposit(self, amount):\n",
        "      self.balance += amount\n",
        "      print(f\"Deposited {amount}. New balance: {self.balance}\")\n",
        "\n",
        "    def withdraw(self, amount):\n",
        "        if amount <= 0:\n",
        "            print(\"Withdrawal amount must be positive.\")\n",
        "        elif amount > self.balance:\n",
        "            print(\"Insufficient funds!\")\n",
        "        else:\n",
        "            self.balance -= amount\n",
        "            print(f\"Withdrew {amount}. New balance: {self.balance}\")\n",
        "\n",
        "    def check_balance(self):\n",
        "        print(f\"Current balance: {self.balance}\")\n",
        "\n",
        "account1 = BankAccounts(\"Gilbert\", 1000000)\n",
        "\n",
        "account1.check_balance()\n",
        "account1.deposit(50000)\n",
        "account1.withdraw(30000)\n",
        "account1.withdraw(150000)"
      ],
      "metadata": {
        "colab": {
          "base_uri": "https://localhost:8080/"
        },
        "id": "bgb2H05Oy1Ek",
        "outputId": "dbc8471f-71ed-445c-b0bd-a6bdd0a38a47"
      },
      "execution_count": null,
      "outputs": [
        {
          "output_type": "stream",
          "name": "stdout",
          "text": [
            "Current balance: 1000000\n",
            "Deposited 50000. New balance: 1050000\n",
            "Withdrew 30000. New balance: 1020000\n",
            "Withdrew 150000. New balance: 870000\n"
          ]
        }
      ]
    },
    {
      "cell_type": "code",
      "source": [
        "# Create a Book class that stores title, author, and year. Add a __str__() method for clean printing.\n",
        "class Book:\n",
        "  def __init__(self, title,author,year):\n",
        "    self.title = title\n",
        "    self.author = author\n",
        "    self.year = year\n",
        "\n",
        "  def __str__(self): #Returns a human-readable string representation of the Book object.\n",
        "     return f'{self.title} by {self.author} {self.year}'\n",
        "\n",
        "# Example usage:\n",
        "book1 = Book(\"Pride and Prejudice\", \"Jane Austen\", 1813)\n",
        "\n",
        "print(book1)"
      ],
      "metadata": {
        "colab": {
          "base_uri": "https://localhost:8080/"
        },
        "id": "bHPBrkfTy09d",
        "outputId": "c922d94e-e860-4f3a-a207-6284675a1a64"
      },
      "execution_count": null,
      "outputs": [
        {
          "output_type": "stream",
          "name": "stdout",
          "text": [
            "Pride and Prejudice by Jane Austen 1813\n"
          ]
        }
      ]
    },
    {
      "cell_type": "code",
      "source": [
        "# Write a class Temperature that can convert Celsius to Fahrenheit and vice versa.\n",
        "\n",
        "class Temperature:\n",
        "# (C=(F-32)\\times 5/9\\)\n",
        "  def celsius_fahrenheit(self, celsius):\n",
        "        \"\"\"Converts Celsius to Fahrenheit.\"\"\"\n",
        "        return (celsius * 9/5) + 32\n",
        "# (F=(C\\times 9/5)+32\\)\n",
        "  def fahrenheit_celsius(self, fahrenheit):\n",
        "        \"\"\"Converts Fahrenheit to Celsius.\"\"\"\n",
        "        return (fahrenheit - 32) * 5/9\n",
        "\n",
        "#object\n",
        "tempConverter = Temperature()\n",
        "\n",
        "#print\n",
        "temp = 27\n",
        "fahrenheit_temp = tempConverter.celsius_fahrenheit(temp)\n",
        "print(f\"{temp}°C is equal to {fahrenheit_temp}°F\")\n",
        "\n",
        "fahrenheit_temp_2 = 77\n",
        "celsius_temp_2 = tempConverter.fahrenheit_celsius(fahrenheit_temp_2)\n",
        "print(f\"{fahrenheit_temp_2}°F is equal to {celsius_temp_2}°C\")"
      ],
      "metadata": {
        "colab": {
          "base_uri": "https://localhost:8080/"
        },
        "id": "stIxuVsZy01k",
        "outputId": "fddde2b0-3b7e-421c-c92a-4b1f751d6f93"
      },
      "execution_count": null,
      "outputs": [
        {
          "output_type": "stream",
          "name": "stdout",
          "text": [
            "27°C is equal to 80.6°F\n",
            "77°F is equal to 25.0°C\n"
          ]
        }
      ]
    },
    {
      "cell_type": "code",
      "source": [
        "# Define a class Counter with an internal variable that increases every time increment() is called.\n",
        "class Counter:\n",
        "  def __init__(self):\n",
        "    self.count = 0\n",
        "\n",
        "  def increment(self):\n",
        "    self.count += 1\n",
        "\n",
        "  def get_count(self):\n",
        "        return self.count  # Return the current count\n",
        "\n",
        "my_counter = Counter()\n",
        "\n",
        "my_counter.increment()\n",
        "print(f\"Count after first increment: {my_counter.get_count()}\") # Output: Count after first increment: 1\n",
        "\n",
        "my_counter.increment()\n",
        "my_counter.increment()\n",
        "my_counter.increment()\n",
        "print(f\"Count after multiple increments: {my_counter.get_count()}\") # Output: Count after multiple increments: 3\n"
      ],
      "metadata": {
        "id": "ImC3dSBSy0tl",
        "colab": {
          "base_uri": "https://localhost:8080/"
        },
        "outputId": "076a8705-ecbd-498b-f838-97ac12df3eb0"
      },
      "execution_count": null,
      "outputs": [
        {
          "output_type": "stream",
          "name": "stdout",
          "text": [
            "Count after first increment: 1\n",
            "Count after multiple increments: 4\n"
          ]
        }
      ]
    },
    {
      "cell_type": "code",
      "source": [
        "# Write a class Calculator that can add, subtract, multiply, and divide two numbers.\n",
        "class Calculator:\n",
        "  def add(self, num1, num2):\n",
        "      return num1 + num2\n",
        "\n",
        "  def subtract(self, num1, num2):\n",
        "      return num1 - num2\n",
        "\n",
        "  def multiply(self, num1, num2):\n",
        "      return num1 * num2\n",
        "\n",
        "  def divide(self, num1, num2):\n",
        "      if num2 == 0:\n",
        "          return \"Error: Division by zero is not allowed.\"\n",
        "      return num1 / num2\n",
        "\n",
        "#object\n",
        "calculator = Calculator()\n",
        "\n",
        "# Addition\n",
        "print(calculator.add(10, 5))  # Output: 15\n",
        "# Subtraction\n",
        "print(calculator.subtract(10, 5))  # Output: 5\n",
        "# Multiplication\n",
        "print(calculator.multiply(10, 5))  # Output: 50\n",
        "# Division\n",
        "print(calculator.divide(10, 5))  # Output: 2.0"
      ],
      "metadata": {
        "id": "hyaSyJnry0kN",
        "colab": {
          "base_uri": "https://localhost:8080/"
        },
        "outputId": "3c06c389-26ed-45b9-f869-298c4d568fa4"
      },
      "execution_count": null,
      "outputs": [
        {
          "output_type": "stream",
          "name": "stdout",
          "text": [
            "15\n",
            "5\n",
            "50\n",
            "2.0\n"
          ]
        }
      ]
    },
    {
      "cell_type": "code",
      "source": [
        "# Create a Person class that greets another person by name using a method greet().\n",
        "class Person:\n",
        "  def __init__(self,name):\n",
        "    self.name = name\n",
        "\n",
        "  def greet(self):\n",
        "    print(f\"Hello {self.name}, How are you?\")\n",
        "\n",
        "#Instance\n",
        "p1 = Person(\"James\")\n",
        "p1.greet()"
      ],
      "metadata": {
        "id": "V7KO26dfy0Zk",
        "colab": {
          "base_uri": "https://localhost:8080/"
        },
        "outputId": "585e22bb-f623-4a40-e4a1-474700458ecf"
      },
      "execution_count": null,
      "outputs": [
        {
          "output_type": "stream",
          "name": "stdout",
          "text": [
            "Hello James, How are you?\n"
          ]
        }
      ]
    },
    {
      "cell_type": "markdown",
      "source": [
        " Section 2: Inheritance (Q11–Q20)\n"
      ],
      "metadata": {
        "id": "IlRomUjsGAfx"
      }
    },
    {
      "cell_type": "code",
      "source": [
        "# Create a base class Animal with a method sound(), and a subclass Dog that prints “Bark!”.\n",
        "class Animal:\n",
        "  def __init__(self, name):\n",
        "    self.name = name\n",
        "\n",
        "  def sound(self):\n",
        "     print(f\"{self.name} makes a sound\")\n",
        "\n",
        "\n",
        "class Dog(Animal):\n",
        "   def sound(self):\n",
        "    print(f\"{self.name} will Bark!\")\n",
        "\n",
        "#instance\n",
        "dog1 = Dog(\"Bosco\")\n",
        "\n",
        "animal = Animal(\"GenericAnimal\")\n",
        "animal.sound()   # Output: GenericAnimal makes a sound\n",
        "dog1.sound()"
      ],
      "metadata": {
        "colab": {
          "base_uri": "https://localhost:8080/"
        },
        "id": "j2j8RUFXGD7R",
        "outputId": "451b03b7-c6fb-41c4-982a-f605c777c823"
      },
      "execution_count": null,
      "outputs": [
        {
          "output_type": "stream",
          "name": "stdout",
          "text": [
            "GenericAnimal makes a sound\n",
            "Bosco will Bark!\n"
          ]
        }
      ]
    },
    {
      "cell_type": "code",
      "source": [
        "# Extend the above example with another subclass Cat that prints “Meow!”.\n",
        "class Cat(Animal):\n",
        "  def sound(self):\n",
        "    print(f\"{self.name} says 'Meow!'\")\n",
        "\n",
        "cat = Cat(\"Jimmy\")\n",
        "cat.sound()"
      ],
      "metadata": {
        "colab": {
          "base_uri": "https://localhost:8080/"
        },
        "id": "KqviZCyaGLHp",
        "outputId": "47c9a9fb-5f11-4937-9086-bd11b653cc12"
      },
      "execution_count": null,
      "outputs": [
        {
          "output_type": "stream",
          "name": "stdout",
          "text": [
            "Jimmy says 'Meow!'\n"
          ]
        }
      ]
    },
    {
      "cell_type": "code",
      "source": [
        "# Write a base class Shape with an area() method. Create subclasses Square and Circle that override it.\n",
        "class Shape:\n",
        "  def area(self):\n",
        "    print(f\"This Shape area method should be overridden by subclasses.\")\n",
        "\n",
        "class Square(Shape):\n",
        "  def __init__(self, side):\n",
        "    self.side = side\n",
        "\n",
        "  def area(self):\n",
        "    return self.side * self.side\n",
        "\n",
        "class Circle(Shape):\n",
        "  def __init__(self, radius):\n",
        "    self.radius = radius\n",
        "\n",
        "  def area(self):\n",
        "    return 3.1415 * self.radius * self.radius\n",
        "\n",
        "square = Square(9)\n",
        "print(f\"Area of square with side 9: {square.area()}\")\n",
        "\n",
        "circle = Circle(14)\n",
        "print(f\"Area of circle with radius 14: {circle.area()}\")"
      ],
      "metadata": {
        "colab": {
          "base_uri": "https://localhost:8080/"
        },
        "id": "-r_eY9FPGLBQ",
        "outputId": "20138c0b-6248-4bcd-9e65-ee0aaa3613bf"
      },
      "execution_count": null,
      "outputs": [
        {
          "output_type": "stream",
          "name": "stdout",
          "text": [
            "Area of square with side 9: 81\n",
            "Area of circle with radius 14: 615.734\n"
          ]
        }
      ]
    },
    {
      "cell_type": "code",
      "source": [
        "# Create a class Vehicle with attributes brand and wheels. Subclass Bike and Car with specific defaults.\n",
        "class Vehicle:\n",
        "  def __init__(self, brand, wheels):\n",
        "    self.brand = brand\n",
        "    self.wheels = wheels\n",
        "\n",
        "  def default(self):\n",
        "   print(f\"Brand: {self.brand}, wheels: {self.wheels}\")\n",
        "\n",
        "# Subclass for Bike\n",
        "class Bike(Vehicle):\n",
        "    def __init__(self, brand):\n",
        "        super().__init__(brand, wheels=2)  # Bikes have 2 wheels by default\n",
        "\n",
        "\n",
        "# Subclass for Car\n",
        "class Car(Vehicle):\n",
        "    def __init__(self, brand):\n",
        "        super().__init__(brand, wheels=4)  # Cars have 4 wheels by default\n",
        "\n",
        "#instance\n",
        "bike1 = Bike(\"Hero Jet\")\n",
        "car1 = Car(\"Mercedes-Benz\")\n",
        "\n",
        "bike1.default()\n",
        "car1.default()"
      ],
      "metadata": {
        "colab": {
          "base_uri": "https://localhost:8080/"
        },
        "id": "f90dYn9qGK1Z",
        "outputId": "4359a375-140c-44db-853d-b788d21d8d70"
      },
      "execution_count": null,
      "outputs": [
        {
          "output_type": "stream",
          "name": "stdout",
          "text": [
            "Brand: Hero Jet, wheels: 2\n",
            "Brand: Mercedes-Benz, wheels: 4\n"
          ]
        }
      ]
    },
    {
      "cell_type": "code",
      "source": [
        "# Implement multi-level inheritance: Person → Employee → Manager. Each should print a message from its constructor.\n",
        "class Person:\n",
        "  def __init__(self):\n",
        "    print(\"This is a personal message\")\n",
        "\n",
        "class Employee(Person):\n",
        "  def __init__(self):\n",
        "   super().__init__()\n",
        "   print(\"Employee constructor called.\")\n",
        "\n",
        "class Manager(Employee):\n",
        "  def __init__(self):\n",
        "   super().__init__()\n",
        "   print(\"Manager constructor called.\")\n",
        "\n",
        "manager = Manager()\n"
      ],
      "metadata": {
        "colab": {
          "base_uri": "https://localhost:8080/"
        },
        "id": "8LQlIVlIGKuZ",
        "outputId": "ef1364b8-db63-4b79-92dd-e468b55eead4"
      },
      "execution_count": null,
      "outputs": [
        {
          "output_type": "stream",
          "name": "stdout",
          "text": [
            "This is a personal message\n",
            "Employee constructor called.\n",
            "Manager constructor called.\n"
          ]
        }
      ]
    },
    {
      "cell_type": "code",
      "source": [
        "# Demonstrate multiple inheritance using classes Flyer and Swimmer, then subclass Duck that inherits both.\n",
        "class Flyer:\n",
        "  def flying(self):\n",
        "    print(\"I can fly - from flyer\")\n",
        "\n",
        "class Swimmer:\n",
        "  def swim(self):\n",
        "    print(\"I can swim - from swimmer\")\n",
        "\n",
        "class Duck(Flyer, Swimmer):\n",
        "  def swim_fly(self):\n",
        "    print(\"I can fly and swim - from Duck\")\n",
        "\n",
        "duck1 = Duck()\n",
        "duck1.flying()\n",
        "duck1.swim()\n",
        "duck1.swim_fly()"
      ],
      "metadata": {
        "colab": {
          "base_uri": "https://localhost:8080/"
        },
        "id": "GRzE2UEkGKmo",
        "outputId": "bd1aecf4-83c1-4793-83a2-24ec78d75dcc"
      },
      "execution_count": null,
      "outputs": [
        {
          "output_type": "stream",
          "name": "stdout",
          "text": [
            "I can fly - from flyer\n",
            "I can swim - from swimmer\n",
            "I can fly and swim - from Duck\n"
          ]
        }
      ]
    },
    {
      "cell_type": "code",
      "source": [
        "# Create a base class Device and two subclasses Phone and Laptop. Add a method specs() in each.\n",
        "class Device:\n",
        "  def __init__(self, brand, model):\n",
        "      self.brand = brand\n",
        "      self.model = model\n",
        "\n",
        "  def specs(self):\n",
        "    print(f\"Device: {self.brand} {self.model}\")\n",
        "\n",
        "class Phone(Device):\n",
        "  def __init__(self, brand, model, os , storage):\n",
        "    super().__init__(brand, model)\n",
        "    self.os = os\n",
        "    self.storage = storage\n",
        "\n",
        "  def specs(self):\n",
        "      super().specs() #parent method\n",
        "      print(f\"Type: Phone\")\n",
        "      print(f\"OS: {self.os}\")\n",
        "      print(f\"Storage: {self.storage}\")\n",
        "\n",
        "class Laptop(Device):\n",
        "  def __init__(self, brand, model, RAM, processor):\n",
        "    super().__init__(brand, model)\n",
        "    self.RAM = RAM\n",
        "    self.processor = processor\n",
        "\n",
        "  def specs(self):\n",
        "        super().specs()  #parent class's specs method\n",
        "        print(f\"Type: Laptop\")\n",
        "        print(f\"RAM: {self.RAM}\")\n",
        "        print(f\"Processor: {self.processor}\")\n",
        "\n",
        "#objects\n",
        "my_phone = Phone(\"Samsung\", \"Galaxy S23\", \"Android\", \"256GB\")\n",
        "my_laptop = Laptop(\"Apple\", \"MacBook Air\", \"M2\", \"8GB\")\n",
        "\n",
        "print(\"--- Phone Specifications ---\")\n",
        "my_phone.specs()\n",
        "print(\"\\n--- Laptop Specifications ---\")\n",
        "my_laptop.specs()"
      ],
      "metadata": {
        "colab": {
          "base_uri": "https://localhost:8080/"
        },
        "id": "oHmFAWoPGKeR",
        "outputId": "7d759b87-f793-4434-9931-fd8de3c934b1"
      },
      "execution_count": null,
      "outputs": [
        {
          "output_type": "stream",
          "name": "stdout",
          "text": [
            "--- Phone Specifications ---\n",
            "Device: Samsung Galaxy S23\n",
            "Type: Phone\n",
            "OS: Android\n",
            "Storage: 256GB\n",
            "\n",
            "--- Laptop Specifications ---\n",
            "Device: Apple MacBook Air\n",
            "Type: Laptop\n",
            "RAM: M2\n",
            "Processor: 8GB\n"
          ]
        }
      ]
    },
    {
      "cell_type": "code",
      "source": [
        "# Write a class Teacher that inherits from Person and adds a method teach(subject).\n",
        "class Person:\n",
        "  def __init__(self, name):\n",
        "    self.name = name\n",
        "\n",
        "  def introduce(self):\n",
        "    print(f\"My name is {self.name}\")\n",
        "\n",
        "class Teacher(Person):\n",
        "  def __init__(self, name, subject):\n",
        "    super().__init__(name)\n",
        "    self.subject = subject\n",
        "\n",
        "  def teach(self):\n",
        "    print(f\"{self.name} teaches {self.subject}\")\n",
        "\n",
        "t1 = Teacher(\"Joab\", \"Decision Theory\")\n",
        "t1.introduce()\n",
        "t1.teach()"
      ],
      "metadata": {
        "colab": {
          "base_uri": "https://localhost:8080/"
        },
        "id": "fDBIXkFBGKWA",
        "outputId": "f3932cd9-0202-4e82-c094-406b79e3bf2b"
      },
      "execution_count": null,
      "outputs": [
        {
          "output_type": "stream",
          "name": "stdout",
          "text": [
            "My name is Joab\n",
            "Joab teaches Decision Theory\n"
          ]
        }
      ]
    },
    {
      "cell_type": "code",
      "source": [
        "# Use super() in a subclass constructor to initialize the parent attributes.\n",
        "class Students:\n",
        "    def __init__(self, name,school):\n",
        "        self.name = name\n",
        "        self.school = school\n",
        "\n",
        "    def introduce(self):\n",
        "        print(f\"I am {self.name} from {self.school}\")\n",
        "\n",
        "class Designation(Students):\n",
        "    def __init__(self, name, school, course):\n",
        "        super().__init__(name, school)\n",
        "        self.course = course\n",
        "\n",
        "    def Doing(self):\n",
        "        super().introduce()\n",
        "        print(f\"I am {self.name} from {self.school} and taking {self.course}\")\n",
        "stud1 = Designation(\"James\",\"LuxDev\", \"Data Engineering\")\n",
        "stud1.Doing()"
      ],
      "metadata": {
        "colab": {
          "base_uri": "https://localhost:8080/"
        },
        "id": "1P826ADYGKNx",
        "outputId": "2a61dad8-a109-40a1-900e-6395b81bdef8"
      },
      "execution_count": null,
      "outputs": [
        {
          "output_type": "stream",
          "name": "stdout",
          "text": [
            "I am James from LuxDev\n",
            "I am James from LuxDev and taking Data Engineering\n"
          ]
        }
      ]
    },
    {
      "cell_type": "code",
      "source": [
        "# Write a program showing method overriding — a subclass changes a method’s behavior from the parent class.\n",
        "class Animal:\n",
        "    def make_sound(self):\n",
        "        print(\"The animal makes a sound.\")\n",
        "\n",
        "class Dog(Animal):\n",
        "    def make_sound(self):\n",
        "        print(\"Woof! Woof!\")\n",
        "\n",
        "class Cat(Animal):\n",
        "    def make_sound(self):\n",
        "        print(\"Meow!\")\n",
        "generic_animal = Animal()\n",
        "my_dog = Dog()\n",
        "my_cat = Cat()\n",
        "\n",
        "# Call the make_sound method on each instance\n",
        "print(\"Generic Animal:\")\n",
        "generic_animal.make_sound()\n",
        "\n",
        "print(\"\\nMy Dog:\")\n",
        "my_dog.make_sound()\n",
        "\n",
        "print(\"\\nMy Cat:\")\n",
        "my_cat.make_sound()"
      ],
      "metadata": {
        "colab": {
          "base_uri": "https://localhost:8080/"
        },
        "id": "QpiecjV1GKCw",
        "outputId": "25cd4f42-2088-4087-ef0e-aa6f26d924f2"
      },
      "execution_count": null,
      "outputs": [
        {
          "output_type": "stream",
          "name": "stdout",
          "text": [
            "Generic Animal:\n",
            "The animal makes a sound.\n",
            "\n",
            "My Dog:\n",
            "Woof! Woof!\n",
            "\n",
            "My Cat:\n",
            "Meow!\n"
          ]
        }
      ]
    },
    {
      "cell_type": "markdown",
      "source": [
        " Section 3: Data Structures Inside Classes (Q21–Q30)"
      ],
      "metadata": {
        "id": "Sh29Rs2Bcvjv"
      }
    },
    {
      "cell_type": "code",
      "source": [
        "# Write a class ShoppingCart that stores items in a list, and has methods add_item() and remove_item().\n",
        "class ShoppingCart:\n",
        "  def __init__(self):\n",
        "    self.items = []\n",
        "\n",
        "  def add_item(self, item):\n",
        "    self.items.append(item)\n",
        "    print(f\"{item} added to the cart.\")\n",
        "\n",
        "  def remove_item(self, item):\n",
        "    if item in self.items:\n",
        "      self.items.remove(item)\n",
        "    else:\n",
        "      print(f\"{item} not found in the list.\")\n",
        "\n",
        "  def show_cart(self):\n",
        "        if self.items:\n",
        "            print(\"Items in your cart:\", \", \".join(self.items))\n",
        "        else:\n",
        "            print(\"Your cart is empty.\")\n",
        "cart = ShoppingCart()\n",
        "cart.add_item(\"Mark x\")\n",
        "cart.show_cart()"
      ],
      "metadata": {
        "colab": {
          "base_uri": "https://localhost:8080/"
        },
        "id": "YWnmgfs5cyX-",
        "outputId": "4715d618-0121-4144-b20a-c8d6869eb548"
      },
      "execution_count": null,
      "outputs": [
        {
          "output_type": "stream",
          "name": "stdout",
          "text": [
            "Mark x added to the cart.\n",
            "Items in your cart: Mark x\n"
          ]
        }
      ]
    },
    {
      "cell_type": "code",
      "source": [
        "# Create a class PhoneBook that stores contacts in a dictionary. Include methods to add, remove, and search by name.\n",
        "class PhoneBook:\n",
        "  def __init__(self):\n",
        "    self.contacts = {}\n",
        "\n",
        "  def add_contact(self, name, phone_number):\n",
        "    self.contacts[name] = {\n",
        "          \"name\": name,\n",
        "          \"phone_number\": phone_number\n",
        "    }\n",
        "    print(f\"Contact '{name}' added/updated successfully.\")\n",
        "\n",
        "  def remove_contact(self, name):\n",
        "        if name in self.contacts:\n",
        "            del self.contacts[name]\n",
        "            print(f\"Contact '{name}' removed successfully.\")\n",
        "        else:\n",
        "            print(f\"Contact '{name}' not found.\")\n",
        "\n",
        "  def search_contact(self, name):\n",
        "        if name in self.contacts:\n",
        "            contact = self.contacts[name]\n",
        "            print(f\"{contact['name']}: {contact['phone_number']}\")\n",
        "        else:\n",
        "            print(f\"Contact '{name}' not found.\")\n",
        "\n",
        "  def show_all_contacts(self):\n",
        "        if self.contacts:\n",
        "            print(\"PhoneBook Contacts:\")\n",
        "            for contact in self.contacts.values():\n",
        "                print(f\"- {contact['name']}: {contact['phone_number']}\")\n",
        "        else:\n",
        "            print(\"PhoneBook is empty.\")\n",
        "#instances\n",
        "pb = PhoneBook()\n",
        "pb.add_contact(\"James\", \"0729904081\")\n",
        "pb.add_contact(\"Grace\", \"0750004081\")\n",
        "pb.add_contact(\"Jackson\", \"0720004081\")\n",
        "pb.add_contact(\"Anne\", \"0723423081\")\n",
        "\n",
        "pb.remove_contact(\"Jackson\")\n",
        "pb.search_contact(\"Grace\")\n",
        "pb.show_all_contacts()\n"
      ],
      "metadata": {
        "id": "6dFj9A31c5De",
        "colab": {
          "base_uri": "https://localhost:8080/"
        },
        "outputId": "b24b8e15-3d29-448c-9db0-de0369f7f36d"
      },
      "execution_count": null,
      "outputs": [
        {
          "output_type": "stream",
          "name": "stdout",
          "text": [
            "Contact 'James' added/updated successfully.\n",
            "Contact 'Grace' added/updated successfully.\n",
            "Contact 'Jackson' added/updated successfully.\n",
            "Contact 'Anne' added/updated successfully.\n",
            "Contact 'Jackson' removed successfully.\n",
            "Grace: 0750004081\n",
            "PhoneBook Contacts:\n",
            "- James: 0729904081\n",
            "- Grace: 0750004081\n",
            "- Anne: 0723423081\n"
          ]
        }
      ]
    },
    {
      "cell_type": "code",
      "source": [
        "# Write a class Library that uses a set to store book titles (to avoid duplicates).\n",
        "class Library:\n",
        "  def __init__(self):\n",
        "    self.books = set()\n",
        "\n",
        "  def add_book(self, title):\n",
        "    if title in self.books:\n",
        "      print(f\"'{title}' is already in the Library\")\n",
        "      return False\n",
        "    else:\n",
        "      print(f\"'{title}' is added sucessfully to the library\")\n",
        "\n",
        "\n",
        "lb = Library()\n",
        "lb.add_book(\"Blossom of savannah\")\n",
        "lb.add_book(\"Caucasian chalk circle\")\n",
        "lb.add_book(\"Damu Nyeusi\")\n",
        "lb.add_book(\"Kidagaa\")"
      ],
      "metadata": {
        "id": "vQXy0Ql0c47H",
        "colab": {
          "base_uri": "https://localhost:8080/"
        },
        "outputId": "1e5e0205-4854-4d76-bc3f-cdc22672c487"
      },
      "execution_count": null,
      "outputs": [
        {
          "output_type": "stream",
          "name": "stdout",
          "text": [
            "'Blossom of savannah' is added sucessfully to the library\n",
            "'Caucasian chalk circle' is added sucessfully to the library\n",
            "'Damu Nyeusi' is added sucessfully to the library\n",
            "'Kidagaa' is added sucessfully to the library\n"
          ]
        }
      ]
    },
    {
      "cell_type": "code",
      "source": [
        "# Implement a class Grades that keeps student scores in a dictionary and calculates the average.\n",
        "class Grades:\n",
        "  def __init__(self):\n",
        "    self.scores = {}\n",
        "\n",
        "  def add_score(self, name, score):\n",
        "    self.scores[name] = {\n",
        "        \"name\":name,\n",
        "        \"score\": score\n",
        "    }\n",
        "    print(f\"{name}'s score {score} marks added sucessfully\")\n",
        "\n",
        "  def average_score(self):\n",
        "    all_scores = [data[\"score\"] for data in self.scores.values()]  # extract only scores\n",
        "\n",
        "    if all_scores:\n",
        "      print(f\"The average score for the class is :\")\n",
        "      return sum(all_scores) / len(all_scores)\n",
        "    return 0.0\n",
        "\n",
        "sc = Grades()\n",
        "sc.add_score(\"Jane\", 70)\n",
        "sc.add_score(\"Job\", 90)\n",
        "sc.add_score(\"Anne\", 50)\n",
        "\n",
        "sc.average_score()\n"
      ],
      "metadata": {
        "id": "zU-5F2Vqc4y_",
        "colab": {
          "base_uri": "https://localhost:8080/"
        },
        "outputId": "c8154130-54c6-4f9c-b2d8-0838e52fa161"
      },
      "execution_count": null,
      "outputs": [
        {
          "output_type": "stream",
          "name": "stdout",
          "text": [
            "Jane's score 70 marks added sucessfully\n",
            "Job's score 90 marks added sucessfully\n",
            "Anne's score 50 marks added sucessfully\n",
            "[70, 90, 50]\n",
            "The average score for the class is :\n"
          ]
        },
        {
          "output_type": "execute_result",
          "data": {
            "text/plain": [
              "70.0"
            ]
          },
          "metadata": {},
          "execution_count": 19
        }
      ]
    },
    {
      "cell_type": "code",
      "source": [
        "# Create a class ToDoList that stores tasks in a list and can display completed and pending tasks separately.\n",
        "class ToDoList:\n",
        "  def __init__(self):\n",
        "    self.tasks = []\n",
        "\n",
        "  def add_task(self, task_name, task_state):\n",
        "    self.tasks.append({\n",
        "        \"task_name\":task_name,\n",
        "        \"completed\":task_state\n",
        "    })\n",
        "    print(f\"{task_name} which is {'completed' if task_state else 'pending'} has been added.\")\n",
        "\n",
        "  def show_completed(self):\n",
        "    complete = [data[\"task_name\"] for data in self.tasks if data[\"completed\"]]\n",
        "    if complete:\n",
        "      print(\"Completed tasks\")\n",
        "      for task in complete:\n",
        "        print(f\"{task}\")\n",
        "    else:\n",
        "      print(\"No completed tasks yet.\")\n",
        "\n",
        "  def show_pending(self):\n",
        "    pending = [data[\"task_name\"] for data in self.tasks if not data[\"completed\"]]\n",
        "    if pending:\n",
        "      print(\"Pending tasks\")\n",
        "      for tasks in pending:\n",
        "        print(f\"{tasks}\")\n",
        "    else:\n",
        "      print(\"No pending task\")\n",
        "\n",
        "ts = ToDoList()\n",
        "ts.add_task(\"Doing assignment\", False)\n",
        "ts.add_task(\"Grocery\", True)\n",
        "ts.add_task(\"Lunch\", True)\n",
        "\n",
        "print(\"================\")\n",
        "ts.show_completed()\n",
        "ts.show_pending()\n"
      ],
      "metadata": {
        "id": "M8OA-TPXc4sO",
        "colab": {
          "base_uri": "https://localhost:8080/"
        },
        "outputId": "2507c883-15c5-4c4f-b2c3-64b4a1c8377f"
      },
      "execution_count": null,
      "outputs": [
        {
          "output_type": "stream",
          "name": "stdout",
          "text": [
            "Doing assignment which is pending has been added.\n",
            "Grocery which is completed has been added.\n",
            "Lunch which is completed has been added.\n",
            "================\n",
            "Completed tasks\n",
            "Grocery\n",
            "Lunch\n",
            "Pending tasks\n",
            "Doing assignment\n"
          ]
        }
      ]
    },
    {
      "cell_type": "code",
      "source": [
        "# Write a class Queue using a Python list to simulate enqueue and dequeue operations.\n",
        "class Queue:\n",
        "  def __init__(self):\n",
        "    self.items = []\n",
        "\n",
        "  def enqueue(self, item):#add\n",
        "    self.items.append(item)\n",
        "    print(f\"{item} added sucessfully\")\n",
        "\n",
        "  def dequeue(self):\n",
        "    if self.is_empty():\n",
        "      print(\"Queue is empty. Nothing to dequeue.\")\n",
        "      return None\n",
        "\n",
        "    removed_item = self.items.pop(0)\n",
        "    print(f\"{removed_item} removed from the queue.\")\n",
        "    return removed_item\n",
        "\n",
        "  def is_empty(self):\n",
        "          \"\"\"Check if the queue is empty.\"\"\"\n",
        "          return len(self.items) == 0\n",
        "\n",
        "  def show_queue(self):\n",
        "    if self.is_empty():\n",
        "        print(\"Queue is empty.\")\n",
        "    else:\n",
        "        print(\"Current queue:\", self.items)\n",
        "\n",
        "\n",
        "q = Queue()\n",
        "q.enqueue(\"rice\")\n",
        "q.enqueue(\"chapo\")\n",
        "q.enqueue(\"meat\")\n",
        "q.dequeue()\n",
        "\n",
        "q.show_queue()"
      ],
      "metadata": {
        "id": "juV8fctgc4iv",
        "colab": {
          "base_uri": "https://localhost:8080/"
        },
        "outputId": "9cc50872-e55f-4fe7-cbbc-13fe6829c56d"
      },
      "execution_count": null,
      "outputs": [
        {
          "output_type": "stream",
          "name": "stdout",
          "text": [
            "rice added sucessfully\n",
            "chapo added sucessfully\n",
            "meat added sucessfully\n",
            "rice removed from the queue.\n",
            "Current queue: ['chapo', 'meat']\n"
          ]
        }
      ]
    },
    {
      "cell_type": "code",
      "source": [
        "# Implement a Stack class using list methods append() and pop().\n",
        "class Stack:\n",
        "  def __init__(self):\n",
        "    self.items = []\n",
        "\n",
        "  def is_empty(self):\n",
        "      return len(self.items) == 0\n",
        "\n",
        "  def push(self, item):\n",
        "    self.items.append(item)\n",
        "    print(f\"{item} pushed onto the stack.\")\n",
        "\n",
        "  def pop(self):\n",
        "    if self.is_empty():\n",
        "       print(\"Stack is empty. Nothing to pop.\")\n",
        "       return None\n",
        "    removed_item = self.items.pop()\n",
        "    print(f\"{removed_item} item is removed from the stack.\")\n",
        "\n",
        "stc1 = Stack()\n",
        "stc1.push(\"car\")\n",
        "stc1.push(\"sports\")\n",
        "stc1.push(\"code\")\n",
        "stc1.pop()"
      ],
      "metadata": {
        "id": "W8wqmaLfc4bn",
        "colab": {
          "base_uri": "https://localhost:8080/"
        },
        "outputId": "df9887b2-d155-4f2b-fa2c-65b4091b3af7"
      },
      "execution_count": null,
      "outputs": [
        {
          "output_type": "stream",
          "name": "stdout",
          "text": [
            "car pushed onto the stack.\n",
            "sports pushed onto the stack.\n",
            "code pushed onto the stack.\n",
            "code item is removed from the stack.\n"
          ]
        }
      ]
    },
    {
      "cell_type": "code",
      "source": [
        "# Create a class Bank that holds multiple BankAccount objects in a dictionary keyed by account numbers.\n",
        "#BankAccount object class\n",
        "class BankAccounts:\n",
        "  def __init__(self, ac_number,ac_owner,ac_balance=0):\n",
        "    self.ac_number = ac_number\n",
        "    self.ac_owner = ac_owner\n",
        "    self.ac_balance = ac_balance\n",
        "\n",
        "  def deposit(self, amount):\n",
        "    if amount > 0:\n",
        "      self.ac_balance += amount\n",
        "      print(f\"Deposited {amount}, New balance = {self.ac_balance}\")\n",
        "\n",
        "  def withdraw(self, amount):\n",
        "    if amount <= self.ac_balance:\n",
        "      self.ac_balance -= amount\n",
        "      print(f\"Withdrew {amount}, New balance = {self.ac_balance}\")\n",
        "    else:\n",
        "        print(\"Insufficient funds.\")\n",
        "\n",
        "  def check_balance(self):\n",
        "    return f\"Your Balance is: {self.ac_balance}\"\n",
        "\n",
        "#class Bank\n",
        "\n",
        "class Bank:\n",
        "  def __init__(self):\n",
        "    self.accounts = {}\n",
        "\n",
        "  def add_account(self, account):\n",
        "    self.accounts[account.ac_number] = account\n",
        "    print(f\"Account {account.ac_number} for {account.ac_owner} added.\")\n",
        "\n",
        "  def get_account(self, ac_number):\n",
        "    return self.accounts.get(ac_number, None)\n",
        "\n",
        "  def list_accounts(self):\n",
        "    if not self.accounts:\n",
        "      print(\"No accounts in the bank.\")\n",
        "    else:\n",
        "      for acc_num, acc in self.accounts.items():\n",
        "        print(f\"Account {acc_num}: {acc.ac_owner} — Balance: {acc.ac_balance}\")\n",
        "\n",
        "#objects\n",
        "# Create a bank\n",
        "my_bank = Bank()\n",
        "\n",
        "# Create some accounts\n",
        "acc1 = BankAccounts(\"2190\", \"Ben\", 6000)\n",
        "acc2 = BankAccounts(\"30210\", \"Jack\", 455)\n",
        "\n",
        "# Add accounts to the bank\n",
        "my_bank.add_account(acc1)\n",
        "my_bank.add_account(acc2)\n",
        "\n",
        "# List all accounts\n",
        "my_bank.list_accounts()"
      ],
      "metadata": {
        "id": "Jcpw-5u4c4TG",
        "colab": {
          "base_uri": "https://localhost:8080/"
        },
        "outputId": "366ccb6f-19d1-46b1-88e1-3192695e54e3"
      },
      "execution_count": null,
      "outputs": [
        {
          "output_type": "stream",
          "name": "stdout",
          "text": [
            "Account 2190 for Ben added.\n",
            "Account 30210 for Jack added.\n",
            "Account 2190: Ben — Balance: 6000\n",
            "Account 30210: Jack — Balance: 455\n"
          ]
        }
      ]
    },
    {
      "cell_type": "code",
      "source": [
        "# Write a class Inventory that stores product names and quantities in a dictionary. Add methods to add, remove, and display items.\n",
        "class Inventory:\n",
        "  def __init__(self):\n",
        "    self.products = {}\n",
        "\n",
        "  def add_product(self, prod_name, prod_quantity):\n",
        "    self.products[prod_name] = {\n",
        "        \"prod_name\":prod_name,\n",
        "        \"prod_quantity\":prod_quantity\n",
        "    }\n",
        "    print(f\"{prod_name} was added sucessfully\")\n",
        "\n",
        "  def remove_product(self, prod_name):\n",
        "    if prod_name in self.products:\n",
        "       del self.products[prod_name]\n",
        "       print(f\"Product '{prod_name}' removed successfully.\")\n",
        "    else:\n",
        "      print(f\"Product '{prod_name}' not found.\")\n",
        "\n",
        "  def show_all_products(self):\n",
        "    if self.products:\n",
        "      print(\"All Products:\")\n",
        "      for product in self.products.values():\n",
        "        print(f\"- {product['prod_name']}: {product['prod_quantity']}\")\n",
        "    else:\n",
        "      print(\"products are empty.\")\n",
        "\n",
        "prod = Inventory()\n",
        "prod = Inventory()\n",
        "prod = Inventory()\n",
        "prod.add_product(\"Phone\", 30)\n",
        "prod.add_product(\"Soda\", 22)\n",
        "prod.add_product(\"Laptops\", 15)\n",
        "\n",
        "prod.remove_product(\"Laptops\")\n",
        "prod.show_all_products()\n",
        "\n"
      ],
      "metadata": {
        "id": "wsiaOGLoc4J-",
        "colab": {
          "base_uri": "https://localhost:8080/"
        },
        "outputId": "ec10e361-8df3-4ee2-ddc4-ec471c1ab587"
      },
      "execution_count": null,
      "outputs": [
        {
          "output_type": "stream",
          "name": "stdout",
          "text": [
            "Phone was added sucessfully\n",
            "Soda was added sucessfully\n",
            "Laptops was added sucessfully\n",
            "Product 'Laptops' removed successfully.\n",
            "All Products:\n",
            "- Phone: 30\n",
            "- Soda: 22\n"
          ]
        }
      ]
    },
    {
      "cell_type": "code",
      "source": [
        "# Write a class UniqueNumbers that maintains a set of unique numbers and provides add_number() and display() methods.\n",
        "class UniqueNumbers:\n",
        "  def __init__(self):\n",
        "    self.numbers = set()\n",
        "\n",
        "  def add_setnumber(self, number):\n",
        "    if number in self.numbers:\n",
        "      print(f\"{number} already exists in the set.\")\n",
        "    else:\n",
        "      self.numbers.add(number)\n",
        "      print(f\"{number} added sucessfully into the set\")\n",
        "  def display_set(self):\n",
        "    if not self.numbers:\n",
        "      print(f\"Set is empty\")\n",
        "    else:\n",
        "      print(\"Unique Numbers:\", self.numbers)\n",
        "\n",
        "nums = UniqueNumbers()\n",
        "nums.add_setnumber(112)\n",
        "nums.add_setnumber(245)\n",
        "nums.add_setnumber(910)\n",
        "nums.display_set()"
      ],
      "metadata": {
        "id": "Nj1fyiYFdGOW",
        "colab": {
          "base_uri": "https://localhost:8080/"
        },
        "outputId": "1cea3751-fa7e-450e-bf47-8fe886aaa306"
      },
      "execution_count": null,
      "outputs": [
        {
          "output_type": "stream",
          "name": "stdout",
          "text": [
            "112 added sucessfully into the set\n",
            "245 added sucessfully into the set\n",
            "910 added sucessfully into the set\n",
            "Unique Numbers: {112, 245, 910}\n"
          ]
        }
      ]
    },
    {
      "cell_type": "markdown",
      "source": [
        "Section 4: Intermediate Class Applications (Q31–Q40)\n"
      ],
      "metadata": {
        "id": "G6FrFohSdOrf"
      }
    },
    {
      "cell_type": "code",
      "source": [
        "# Create a class Student that stores a list of subjects and marks. Add a method highest_score().\n",
        "class Student:\n",
        "  def __init__(self):\n",
        "    self.marks = []\n",
        "\n",
        "  def add_marks(self, subject, marks):\n",
        "    self.marks.append({\n",
        "        \"subject\":subject,\n",
        "        \"marks\":marks\n",
        "        })\n",
        "    print(f\"{subject} having {marks} has been added.\")\n",
        "\n",
        "  def highest_score(self):\n",
        "    highest = self.marks[0]\n",
        "    for mark in self.marks:\n",
        "      if mark[\"marks\"] > highest[\"marks\"]:\n",
        "        highest = mark\n",
        "        print(f\"Highest score: {highest['marks']} in {highest['subject']}\")\n",
        "\n",
        "sub = Student()\n",
        "sub.add_marks(\"English\",70)\n",
        "sub.add_marks(\"CRE\",60)\n",
        "sub.add_marks(\"KISW\",90)\n",
        "\n",
        "sub.highest_score()"
      ],
      "metadata": {
        "id": "eeiEE50WdQBV",
        "colab": {
          "base_uri": "https://localhost:8080/"
        },
        "outputId": "55f9f58f-c7ad-4d7a-b6f3-fb1d703e53b3"
      },
      "execution_count": null,
      "outputs": [
        {
          "output_type": "stream",
          "name": "stdout",
          "text": [
            "English having 70 has been added.\n",
            "CRE having 60 has been added.\n",
            "KISW having 90 has been added.\n",
            "Highest score: 90 in KISW\n"
          ]
        }
      ]
    },
    {
      "cell_type": "code",
      "source": [
        "# Write a class Playlist that stores songs in a list. Add methods to add_song(), remove_song(), and shuffle().\n",
        "import random\n",
        "class Playlist:\n",
        "  def __init__(self):\n",
        "    self.songs = []\n",
        "\n",
        "  def add_song(self, song):\n",
        "      self.songs.append(song)\n",
        "      print(f'\"{song}\" has been added to the playlist.')\n",
        "\n",
        "  def remove_song(self, song):\n",
        "      if song in self.songs:\n",
        "          self.songs.remove(song)\n",
        "          print(f'\"{song}\" has been removed from the playlist.')\n",
        "      else:\n",
        "          print(f'\"{song}\" is not in the playlist.')\n",
        "\n",
        "  def shuffle(self):\n",
        "      if len(self.songs) > 1:\n",
        "          random.shuffle(self.songs)\n",
        "          print(\"Playlist shuffled.\")\n",
        "      else:\n",
        "          print(\"Not enough songs to shuffle.\")\n",
        "\n",
        "  def display_songs(self):\n",
        "    if not self.songs:\n",
        "      print(f\"List is currently empty.\")\n",
        "      return\n",
        "    print(f\"\\nSongs are:\")\n",
        "    for i, song in enumerate(self.songs):\n",
        "      print(f\"{i+1}. {song}\")\n",
        "\n",
        "my_playlist = Playlist()\n",
        "\n",
        "my_playlist.add_song(\"Shape of You\")\n",
        "my_playlist.add_song(\"Blinding Lights\")\n",
        "my_playlist.add_song(\"Perfect\")\n",
        "\n",
        "my_playlist.shuffle()\n",
        "\n",
        "my_playlist.remove_song(\"Blinding Lights\")\n",
        "my_playlist.display_songs()"
      ],
      "metadata": {
        "id": "Y7E706c-dbFV",
        "colab": {
          "base_uri": "https://localhost:8080/"
        },
        "outputId": "a6bd0d01-4c40-4322-b8f9-2eb7a7236281"
      },
      "execution_count": null,
      "outputs": [
        {
          "output_type": "stream",
          "name": "stdout",
          "text": [
            "\"Shape of You\" has been added to the playlist.\n",
            "\"Blinding Lights\" has been added to the playlist.\n",
            "\"Perfect\" has been added to the playlist.\n",
            "Playlist shuffled.\n",
            "\"Blinding Lights\" has been removed from the playlist.\n",
            "\n",
            "Songs are:\n",
            "1. Perfect\n",
            "2. Shape of You\n"
          ]
        }
      ]
    },
    {
      "cell_type": "code",
      "source": [
        "# Define a class BankSystem that manages multiple customers (use a list of objects). Add a method to display all balances.\n",
        "class BankAccount:\n",
        "    def __init__(self, name, balance=0):\n",
        "        self.name = name\n",
        "        self.balance = balance\n",
        "\n",
        "    def deposit(self, amount):\n",
        "        self.balance += amount\n",
        "        print(f\"{self.name} deposited {amount}. New balance: {self.balance}\")\n",
        "\n",
        "    def withdraw(self, amount):\n",
        "        if amount <= self.balance:\n",
        "            self.balance -= amount\n",
        "            print(f\"{self.name} withdrew {amount}. New balance: {self.balance}\")\n",
        "        else:\n",
        "            print(f\"{self.name} has insufficient funds.\")\n",
        "\n",
        "    def get_balance(self):\n",
        "        return self.balance\n",
        "\n",
        "\n",
        "class BankSystem:\n",
        "    def __init__(self):\n",
        "        self.customers = []  # list of BankAccount objects\n",
        "\n",
        "    def add_customer(self, account):\n",
        "        self.customers.append(account)\n",
        "        print(f\"Customer {account.name} added with balance {account.balance}.\")\n",
        "\n",
        "    def display_all_balances(self):\n",
        "        if not self.customers:\n",
        "            print(\"No customers in the system.\")\n",
        "        else:\n",
        "            print(\"💵 All Customer Balances:\")\n",
        "            for customer in self.customers:\n",
        "                print(f\"{customer.name}: {customer.get_balance()}\")\n",
        "# Create the bank system\n",
        "bank = BankSystem()\n",
        "\n",
        "# Create customers\n",
        "acc1 = BankAccount(\"Alice\", 1000)\n",
        "acc2 = BankAccount(\"Bob\", 500)\n",
        "acc3 = BankAccount(\"Charlie\", 1200)\n",
        "\n",
        "# Add them to the bank\n",
        "bank.add_customer(acc1)\n",
        "bank.add_customer(acc2)\n",
        "bank.add_customer(acc3)\n",
        "\n",
        "# Display all balances\n",
        "bank.display_all_balances()\n"
      ],
      "metadata": {
        "id": "LmjNKYDXdacd",
        "colab": {
          "base_uri": "https://localhost:8080/"
        },
        "outputId": "54dc8e81-a3f3-4464-bbc3-a8ff3fa27e0e"
      },
      "execution_count": null,
      "outputs": [
        {
          "output_type": "stream",
          "name": "stdout",
          "text": [
            "Customer Alice added with balance 1000.\n",
            "Customer Bob added with balance 500.\n",
            "Customer Charlie added with balance 1200.\n",
            "💵 All Customer Balances:\n",
            "Alice: 1000\n",
            "Bob: 500\n",
            "Charlie: 1200\n"
          ]
        }
      ]
    },
    {
      "cell_type": "code",
      "source": [
        "# Implement a class Matrix that supports adding two 2x2 matrices using a method add_matrix().\n",
        "class Matrix:\n",
        "    def __init__(self, matrix):\n",
        "        # Expecting a 2x2 list, e.g. [[1, 2], [3, 4]]\n",
        "        self.matrix = matrix\n",
        "\n",
        "    def display(self):\n",
        "        for row in self.matrix:\n",
        "            print(row)\n",
        "\n",
        "    def add_matrix(self, other):\n",
        "        \"\"\"Add two 2x2 matrices.\"\"\"\n",
        "        result = [\n",
        "            [self.matrix[0][0] + other.matrix[0][0],\n",
        "             self.matrix[0][1] + other.matrix[0][1]],\n",
        "            [self.matrix[1][0] + other.matrix[1][0],\n",
        "             self.matrix[1][1] + other.matrix[1][1]]\n",
        "        ]\n",
        "        return Matrix(result)\n",
        "# Create two 2x2 matrices\n",
        "m1 = Matrix([[1, 2], [3, 4]])\n",
        "m2 = Matrix([[5, 6], [7, 8]])\n",
        "\n",
        "# Add them\n",
        "m3 = m1.add_matrix(m2)\n",
        "\n",
        "# Display the result\n",
        "print(\"Result of Matrix Addition:\")\n",
        "m3.display()\n"
      ],
      "metadata": {
        "id": "Bx69HhkgdaTW",
        "colab": {
          "base_uri": "https://localhost:8080/"
        },
        "outputId": "02c3d5af-36e7-4d2f-8340-5a1a008b96f7"
      },
      "execution_count": null,
      "outputs": [
        {
          "output_type": "stream",
          "name": "stdout",
          "text": [
            "Result of Matrix Addition:\n",
            "[6, 8]\n",
            "[10, 12]\n"
          ]
        }
      ]
    },
    {
      "cell_type": "code",
      "source": [
        "# Write a class ContactManager that prevents duplicate names using a set and supports listing all contacts alphabetically.\n",
        "class ContactManager:\n",
        "    def __init__(self):\n",
        "        self.contacts = set()  # using a set to ensure uniqueness\n",
        "\n",
        "    def add_contact(self, name):\n",
        "      if name in self.contacts:\n",
        "          print(f\"{name} is already in your contacts.\")\n",
        "      else:\n",
        "          self.contacts.add(name)\n",
        "          print(f\"{name} added successfully.\")\n",
        "\n",
        "    def remove_contact(self, name):\n",
        "      if name in self.contacts:\n",
        "          self.contacts.remove(name)\n",
        "          print(f\"{name} has been removed.\")\n",
        "      else:\n",
        "          print(f\"{name} not found in contacts.\")\n",
        "\n",
        "    def list_contacts(self):\n",
        "      if not self.contacts:\n",
        "          print(\"No contacts available.\")\n",
        "      else:\n",
        "          print(\"📖 Contact List:\")\n",
        "          for name in sorted(self.contacts):\n",
        "              print(name)\n",
        "\n",
        "manager = ContactManager()\n",
        "\n",
        "manager.add_contact(\"Joy\")\n",
        "manager.add_contact(\"Ken\")\n",
        "manager.add_contact(\"Brown\")\n",
        "manager.add_contact(\"Brown\")  # duplicate\n",
        "\n",
        "manager.list_contacts()\n",
        "\n",
        "manager.remove_contact(\"Ken\")\n",
        "manager.list_contacts()\n"
      ],
      "metadata": {
        "id": "7rrjc6QydaLO",
        "colab": {
          "base_uri": "https://localhost:8080/"
        },
        "outputId": "31873c08-4869-417d-c3a7-10d81e4d9812"
      },
      "execution_count": null,
      "outputs": [
        {
          "output_type": "stream",
          "name": "stdout",
          "text": [
            "Joy added successfully.\n",
            "Ken added successfully.\n",
            "Brown added successfully.\n",
            "Brown is already in your contacts.\n",
            "📖 Contact List:\n",
            "Brown\n",
            "Joy\n",
            "Ken\n",
            "Ken has been removed.\n",
            "📖 Contact List:\n",
            "Brown\n",
            "Joy\n"
          ]
        }
      ]
    },
    {
      "cell_type": "code",
      "source": [
        "# Create a class Animal with subclasses Bird and Fish, each overriding move() method to print their specific movements.\n",
        "class Animal:\n",
        "  def move(self):\n",
        "      print(\"This animal moves in a any way.\")\n",
        "\n",
        "class Bird(Animal):\n",
        "  def move(self):\n",
        "      print(\"A bird flies through the air.\")\n",
        "\n",
        "class Fish(Animal):\n",
        "  def move(self):\n",
        "      print(\"A fish swims in the water.\")\n",
        "\n",
        "animal = Animal()\n",
        "eagle = Bird()\n",
        "Tilapia = Fish()\n",
        "\n",
        "animal.move()\n",
        "eagle.move()\n",
        "Tilapia.move()"
      ],
      "metadata": {
        "id": "bZB4dkimdaDO",
        "colab": {
          "base_uri": "https://localhost:8080/"
        },
        "outputId": "29e8fff6-8f58-4a17-99b6-5e24a1046966"
      },
      "execution_count": null,
      "outputs": [
        {
          "output_type": "stream",
          "name": "stdout",
          "text": [
            "This animal moves in a any way.\n",
            "A bird flies through the air.\n",
            "A fish swims in the water.\n"
          ]
        }
      ]
    },
    {
      "cell_type": "code",
      "source": [
        "# Write a class Employee that stores details in a dictionary and a subclass Developer that adds programming languages.\n",
        "class Employee:\n",
        "    def __init__(self, name, emp_id, position, salary):\n",
        "        # Store details in a dictionary\n",
        "        self.details = {\n",
        "            \"name\": name,\n",
        "            \"emp_id\": emp_id,\n",
        "            \"position\": position,\n",
        "            \"salary\": salary\n",
        "        }\n",
        "\n",
        "    def display_details(self):\n",
        "        print(\"👤 Employee Details:\")\n",
        "        for key, value in self.details.items():\n",
        "            print(f\"{key.capitalize()}: {value}\")\n",
        "\n",
        "\n",
        "# Subclass\n",
        "class Developer(Employee):\n",
        "    def __init__(self, name, emp_id, position, salary, languages=None):\n",
        "        # Initialize parent class\n",
        "        super().__init__(name, emp_id, position, salary)\n",
        "        # Add a list of programming languages\n",
        "        self.languages = languages if languages else []\n",
        "\n",
        "    def add_language(self, lang):\n",
        "        if lang not in self.languages:\n",
        "            self.languages.append(lang)\n",
        "            print(f\"{lang} added.\")\n",
        "        else:\n",
        "            print(f\"{lang} already known.\")\n",
        "\n",
        "    def display_details(self):\n",
        "        super().display_details()\n",
        "        print(\"Languages:\", \", \".join(self.languages) if self.languages else \"None\")\n",
        "\n",
        "# Create an Employee\n",
        "emp = Employee(\"Alice\", 101, \"HR Manager\", 85000)\n",
        "emp.display_details()\n",
        "\n",
        "print(\"\\n\")\n",
        "\n",
        "# Create a Developer\n",
        "dev = Developer(\"Bob\", 102, \"Software Engineer\", 120000, [\"Python\", \"JavaScript\"])\n",
        "dev.display_details()\n",
        "\n",
        "print(\"\\nAdding a new language:\")\n",
        "dev.add_language(\"C++\")\n",
        "dev.display_details()"
      ],
      "metadata": {
        "id": "h4HFJUP-dZ6G",
        "colab": {
          "base_uri": "https://localhost:8080/"
        },
        "outputId": "0d8b9930-d28c-4233-c946-439097b16f3e"
      },
      "execution_count": null,
      "outputs": [
        {
          "output_type": "stream",
          "name": "stdout",
          "text": [
            "👤 Employee Details:\n",
            "Name: Alice\n",
            "Emp_id: 101\n",
            "Position: HR Manager\n",
            "Salary: 85000\n",
            "\n",
            "\n",
            "👤 Employee Details:\n",
            "Name: Bob\n",
            "Emp_id: 102\n",
            "Position: Software Engineer\n",
            "Salary: 120000\n",
            "Languages: Python, JavaScript\n",
            "\n",
            "Adding a new language:\n",
            "C++ added.\n",
            "👤 Employee Details:\n",
            "Name: Bob\n",
            "Emp_id: 102\n",
            "Position: Software Engineer\n",
            "Salary: 120000\n",
            "Languages: Python, JavaScript, C++\n"
          ]
        }
      ]
    },
    {
      "cell_type": "code",
      "source": [
        "# Create a class HistoryTracker that uses a list to track every action performed by a user.\n",
        "class HistoryTracker:\n",
        "    def __init__(self):\n",
        "        self.history = []  # list to store actions\n",
        "\n",
        "    def add_action(self, action):\n",
        "      self.history.append(action)\n",
        "      print(f\"Action recorded: {action}\")\n",
        "\n",
        "    def show_history(self):\n",
        "      if not self.history:\n",
        "          print(\"No actions recorded yet.\")\n",
        "      else:\n",
        "          print(\"🕘 User Action History:\")\n",
        "          for i, action in enumerate(self.history, start=1):\n",
        "              print(f\"{i}. {action}\")\n",
        "tracker = HistoryTracker()\n",
        "\n",
        "tracker.add_action(\"Logged in\")\n",
        "tracker.add_action(\"Viewed profile\")\n",
        "tracker.add_action(\"Updated password\")\n",
        "\n",
        "tracker.show_history()\n",
        "tracker.show_history()"
      ],
      "metadata": {
        "id": "WcdFVo82dZzF",
        "colab": {
          "base_uri": "https://localhost:8080/"
        },
        "outputId": "b6982d25-2148-4d06-987a-745583bb76b2"
      },
      "execution_count": null,
      "outputs": [
        {
          "output_type": "stream",
          "name": "stdout",
          "text": [
            "Action recorded: Logged in\n",
            "Action recorded: Viewed profile\n",
            "Action recorded: Updated password\n",
            "🕘 User Action History:\n",
            "1. Logged in\n",
            "2. Viewed profile\n",
            "3. Updated password\n",
            "🕘 User Action History:\n",
            "1. Logged in\n",
            "2. Viewed profile\n",
            "3. Updated password\n"
          ]
        }
      ]
    },
    {
      "cell_type": "code",
      "source": [
        "# Implement a class VotingSystem that keeps votes in a dictionary and determines the winner.\n",
        "class VotingSystem:\n",
        "    def __init__(self):\n",
        "        self.votes = {}  # dictionary to store {candidate: vote_count}\n",
        "\n",
        "    def add_vote(self, candidate):\n",
        "      self.votes[candidate] = self.votes.get(candidate, 0) + 1\n",
        "      print(f\"Vote added for {candidate}.\")\n",
        "\n",
        "    def display_results(self):\n",
        "      if not self.votes:\n",
        "          print(\"No votes recorded yet.\")\n",
        "      else:\n",
        "          print(\"🗳️ Voting Results:\")\n",
        "          for candidate, count in self.votes.items():\n",
        "              print(f\"{candidate}: {count} votes\")\n",
        "\n",
        "    def determine_winner(self):\n",
        "      if not self.votes:\n",
        "        print(\"No votes to determine a winner.\")\n",
        "      return\n",
        "      winner = max(self.votes, key=self.votes.get)\n",
        "      print(f\"🏆 Winner: {winner} with {self.votes[winner]} votes\")\n",
        "\n",
        "voting = VotingSystem()\n",
        "\n",
        "voting.add_vote(\"Alice\")\n",
        "voting.add_vote(\"Bob\")\n",
        "voting.add_vote(\"Alice\")\n",
        "voting.add_vote(\"Charlie\")\n",
        "voting.add_vote(\"Bob\")\n",
        "voting.add_vote(\"Alice\")\n",
        "\n",
        "voting.display_results()\n",
        "voting.determine_winner()"
      ],
      "metadata": {
        "id": "0FdvfmV2dZm2",
        "colab": {
          "base_uri": "https://localhost:8080/"
        },
        "outputId": "6c614581-2bda-40f9-df9e-65e584c02061"
      },
      "execution_count": null,
      "outputs": [
        {
          "output_type": "stream",
          "name": "stdout",
          "text": [
            "Vote added for Alice.\n",
            "Vote added for Bob.\n",
            "Vote added for Alice.\n",
            "Vote added for Charlie.\n",
            "Vote added for Bob.\n",
            "Vote added for Alice.\n",
            "🗳️ Voting Results:\n",
            "Alice: 3 votes\n",
            "Bob: 2 votes\n",
            "Charlie: 1 votes\n"
          ]
        }
      ]
    },
    {
      "cell_type": "code",
      "source": [
        "# Create a class DataAnalyzer that accepts a list of numbers and provides methods to get min, max, mean, and median.\n",
        "class DataAnalyzer:\n",
        "    def __init__(self, data):\n",
        "        self.data = sorted(data)  # keep data sorted for median\n",
        "\n",
        "    def get_min(self):\n",
        "      return min(self.data) if self.data else None\n",
        "\n",
        "    def get_max(self):\n",
        "      return max(self.data) if self.data else None\n",
        "\n",
        "    def get_mean(self):\n",
        "      return sum(self.data) / len(self.data) if self.data else None\n",
        "\n",
        "    def get_median(self):\n",
        "      if not self.data:\n",
        "          return None\n",
        "      n = len(self.data)\n",
        "      mid = n // 2\n",
        "      if n % 2 == 0:\n",
        "          # even number of elements\n",
        "          return (self.data[mid - 1] + self.data[mid]) / 2\n",
        "      else:\n",
        "          # odd number of elements\n",
        "          return self.data[mid]\n",
        "\n",
        "analyzer = DataAnalyzer([6,7,2,9,3,1])\n",
        "\n",
        "print(\"Min:\", analyzer.get_min())\n",
        "print(\"Max:\", analyzer.get_max())\n",
        "print(\"Mean:\", analyzer.get_mean())\n",
        "print(\"Median:\", analyzer.get_median())"
      ],
      "metadata": {
        "id": "wYWBgpEidZeN",
        "colab": {
          "base_uri": "https://localhost:8080/"
        },
        "outputId": "d3a55775-ef52-4492-a15f-bc7c84a67a0d"
      },
      "execution_count": null,
      "outputs": [
        {
          "output_type": "stream",
          "name": "stdout",
          "text": [
            "Min: 1\n",
            "Max: 9\n",
            "Mean: 4.666666666666667\n",
            "Median: 4.5\n"
          ]
        }
      ]
    }
  ]
}